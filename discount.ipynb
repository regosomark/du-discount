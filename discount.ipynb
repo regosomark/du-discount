{
 "cells": [
  {
   "cell_type": "code",
   "execution_count": 1,
   "metadata": {},
   "outputs": [
    {
     "name": "stdout",
     "output_type": "stream",
     "text": [
      "Requirement already satisfied: numpy in c:\\users\\mark\\appdata\\local\\programs\\python\\python312\\lib\\site-packages (2.0.0)\n",
      "Requirement already satisfied: pandas in c:\\users\\mark\\appdata\\local\\programs\\python\\python312\\lib\\site-packages (2.2.2)\n",
      "Requirement already satisfied: matplotlib in c:\\users\\mark\\appdata\\local\\programs\\python\\python312\\lib\\site-packages (3.9.1)\n",
      "Requirement already satisfied: python-pptx in c:\\users\\mark\\appdata\\local\\programs\\python\\python312\\lib\\site-packages (1.0.2)\n",
      "Requirement already satisfied: python-dateutil>=2.8.2 in c:\\users\\mark\\appdata\\local\\programs\\python\\python312\\lib\\site-packages (from pandas) (2.9.0.post0)\n",
      "Requirement already satisfied: pytz>=2020.1 in c:\\users\\mark\\appdata\\local\\programs\\python\\python312\\lib\\site-packages (from pandas) (2024.1)\n",
      "Requirement already satisfied: tzdata>=2022.7 in c:\\users\\mark\\appdata\\local\\programs\\python\\python312\\lib\\site-packages (from pandas) (2024.1)\n",
      "Requirement already satisfied: contourpy>=1.0.1 in c:\\users\\mark\\appdata\\local\\programs\\python\\python312\\lib\\site-packages (from matplotlib) (1.2.1)\n",
      "Requirement already satisfied: cycler>=0.10 in c:\\users\\mark\\appdata\\local\\programs\\python\\python312\\lib\\site-packages (from matplotlib) (0.12.1)\n",
      "Requirement already satisfied: fonttools>=4.22.0 in c:\\users\\mark\\appdata\\local\\programs\\python\\python312\\lib\\site-packages (from matplotlib) (4.53.1)\n",
      "Requirement already satisfied: kiwisolver>=1.3.1 in c:\\users\\mark\\appdata\\local\\programs\\python\\python312\\lib\\site-packages (from matplotlib) (1.4.5)\n",
      "Requirement already satisfied: packaging>=20.0 in c:\\users\\mark\\appdata\\local\\programs\\python\\python312\\lib\\site-packages (from matplotlib) (24.1)\n",
      "Requirement already satisfied: pillow>=8 in c:\\users\\mark\\appdata\\local\\programs\\python\\python312\\lib\\site-packages (from matplotlib) (10.4.0)\n",
      "Requirement already satisfied: pyparsing>=2.3.1 in c:\\users\\mark\\appdata\\local\\programs\\python\\python312\\lib\\site-packages (from matplotlib) (3.1.2)\n",
      "Requirement already satisfied: XlsxWriter>=0.5.7 in c:\\users\\mark\\appdata\\local\\programs\\python\\python312\\lib\\site-packages (from python-pptx) (3.2.0)\n",
      "Requirement already satisfied: lxml>=3.1.0 in c:\\users\\mark\\appdata\\local\\programs\\python\\python312\\lib\\site-packages (from python-pptx) (5.3.0)\n",
      "Requirement already satisfied: typing-extensions>=4.9.0 in c:\\users\\mark\\appdata\\local\\programs\\python\\python312\\lib\\site-packages (from python-pptx) (4.12.2)\n",
      "Requirement already satisfied: six>=1.5 in c:\\users\\mark\\appdata\\local\\programs\\python\\python312\\lib\\site-packages (from python-dateutil>=2.8.2->pandas) (1.16.0)\n",
      "Note: you may need to restart the kernel to use updated packages.\n"
     ]
    },
    {
     "name": "stderr",
     "output_type": "stream",
     "text": [
      "WARNING: Ignoring invalid distribution ~vicorn (c:\\Users\\MARK\\AppData\\Local\\Programs\\Python\\Python312\\Lib\\site-packages)\n",
      "WARNING: Ignoring invalid distribution ~vicorn (c:\\Users\\MARK\\AppData\\Local\\Programs\\Python\\Python312\\Lib\\site-packages)\n",
      "WARNING: Ignoring invalid distribution ~vicorn (c:\\Users\\MARK\\AppData\\Local\\Programs\\Python\\Python312\\Lib\\site-packages)\n"
     ]
    }
   ],
   "source": [
    "%pip install numpy pandas matplotlib python-pptx"
   ]
  },
  {
   "cell_type": "code",
   "execution_count": 2,
   "metadata": {},
   "outputs": [
    {
     "ename": "FileNotFoundError",
     "evalue": "[Errno 2] No such file or directory: './assets/Poppins-Regular.ttf'",
     "output_type": "error",
     "traceback": [
      "\u001b[1;31m---------------------------------------------------------------------------\u001b[0m",
      "\u001b[1;31mFileNotFoundError\u001b[0m                         Traceback (most recent call last)",
      "Cell \u001b[1;32mIn[2], line 13\u001b[0m\n\u001b[0;32m     11\u001b[0m \u001b[38;5;28;01mfrom\u001b[39;00m \u001b[38;5;21;01mpptx\u001b[39;00m\u001b[38;5;21;01m.\u001b[39;00m\u001b[38;5;21;01mutil\u001b[39;00m \u001b[38;5;28;01mimport\u001b[39;00m Inches, Pt\n\u001b[0;32m     12\u001b[0m \u001b[38;5;28;01mfrom\u001b[39;00m \u001b[38;5;21;01mpptx\u001b[39;00m\u001b[38;5;21;01m.\u001b[39;00m\u001b[38;5;21;01mdml\u001b[39;00m\u001b[38;5;21;01m.\u001b[39;00m\u001b[38;5;21;01mcolor\u001b[39;00m \u001b[38;5;28;01mimport\u001b[39;00m RGBColor\n\u001b[1;32m---> 13\u001b[0m \u001b[38;5;28;01mfrom\u001b[39;00m \u001b[38;5;21;01mutils\u001b[39;00m \u001b[38;5;28;01mimport\u001b[39;00m \u001b[38;5;241m*\u001b[39m \n",
      "File \u001b[1;32mc:\\Users\\MARK\\Du Discount\\utils.py:8\u001b[0m\n\u001b[0;32m      5\u001b[0m \u001b[38;5;28;01mimport\u001b[39;00m \u001b[38;5;21;01mrandom\u001b[39;00m\n\u001b[0;32m      6\u001b[0m \u001b[38;5;28;01mimport\u001b[39;00m \u001b[38;5;21;01mmatplotlib\u001b[39;00m\u001b[38;5;21;01m.\u001b[39;00m\u001b[38;5;21;01mpyplot\u001b[39;00m \u001b[38;5;28;01mas\u001b[39;00m \u001b[38;5;21;01mplt\u001b[39;00m\n\u001b[1;32m----> 8\u001b[0m \u001b[43mfm\u001b[49m\u001b[38;5;241;43m.\u001b[39;49m\u001b[43mfontManager\u001b[49m\u001b[38;5;241;43m.\u001b[39;49m\u001b[43maddfont\u001b[49m\u001b[43m(\u001b[49m\n\u001b[0;32m      9\u001b[0m \u001b[43m  \u001b[49m\u001b[38;5;124;43m'\u001b[39;49m\u001b[38;5;124;43m./assets/Poppins-Regular.ttf\u001b[39;49m\u001b[38;5;124;43m'\u001b[39;49m\u001b[43m)\u001b[49m\n\u001b[0;32m     11\u001b[0m \u001b[38;5;66;03m# Get list of days of the week\u001b[39;00m\n\u001b[0;32m     12\u001b[0m days_of_week \u001b[38;5;241m=\u001b[39m [\u001b[38;5;124m\"\u001b[39m\u001b[38;5;124mMonday\u001b[39m\u001b[38;5;124m\"\u001b[39m, \u001b[38;5;124m\"\u001b[39m\u001b[38;5;124mTuesday\u001b[39m\u001b[38;5;124m\"\u001b[39m, \u001b[38;5;124m\"\u001b[39m\u001b[38;5;124mWednesday\u001b[39m\u001b[38;5;124m\"\u001b[39m, \u001b[38;5;124m\"\u001b[39m\u001b[38;5;124mThursday\u001b[39m\u001b[38;5;124m\"\u001b[39m, \u001b[38;5;124m\"\u001b[39m\u001b[38;5;124mFriday\u001b[39m\u001b[38;5;124m\"\u001b[39m, \u001b[38;5;124m\"\u001b[39m\u001b[38;5;124mSaturday\u001b[39m\u001b[38;5;124m\"\u001b[39m, \u001b[38;5;124m\"\u001b[39m\u001b[38;5;124mSunday\u001b[39m\u001b[38;5;124m\"\u001b[39m]\n",
      "File \u001b[1;32mc:\\Users\\MARK\\AppData\\Local\\Programs\\Python\\Python312\\Lib\\site-packages\\matplotlib\\font_manager.py:1081\u001b[0m, in \u001b[0;36mFontManager.addfont\u001b[1;34m(self, path)\u001b[0m\n\u001b[0;32m   1079\u001b[0m     \u001b[38;5;28mself\u001b[39m\u001b[38;5;241m.\u001b[39mafmlist\u001b[38;5;241m.\u001b[39mappend(prop)\n\u001b[0;32m   1080\u001b[0m \u001b[38;5;28;01melse\u001b[39;00m:\n\u001b[1;32m-> 1081\u001b[0m     font \u001b[38;5;241m=\u001b[39m \u001b[43mft2font\u001b[49m\u001b[38;5;241;43m.\u001b[39;49m\u001b[43mFT2Font\u001b[49m\u001b[43m(\u001b[49m\u001b[43mpath\u001b[49m\u001b[43m)\u001b[49m\n\u001b[0;32m   1082\u001b[0m     prop \u001b[38;5;241m=\u001b[39m ttfFontProperty(font)\n\u001b[0;32m   1083\u001b[0m     \u001b[38;5;28mself\u001b[39m\u001b[38;5;241m.\u001b[39mttflist\u001b[38;5;241m.\u001b[39mappend(prop)\n",
      "\u001b[1;31mFileNotFoundError\u001b[0m: [Errno 2] No such file or directory: './assets/Poppins-Regular.ttf'"
     ]
    }
   ],
   "source": [
    "import sys  # noqa\n",
    "# sys.path.append('/workspace/forecasting_simulation')  # noqa\n",
    "\n",
    "import numpy as np\n",
    "import pandas as pd\n",
    "import matplotlib.pyplot as plt\n",
    "import random\n",
    "import seaborn as sns \n",
    "import matplotlib.colors as mcolors\n",
    "from pptx import Presentation\n",
    "from pptx.util import Inches, Pt\n",
    "from pptx.dml.color import RGBColor\n",
    "from utils import * "
   ]
  },
  {
   "cell_type": "markdown",
   "metadata": {},
   "source": [
    "## LOAD DATA"
   ]
  },
  {
   "cell_type": "code",
   "execution_count": 7,
   "metadata": {},
   "outputs": [
    {
     "name": "stdout",
     "output_type": "stream",
     "text": [
      "Data is 1-hour interval.\n",
      "Data now has 9 columns (9 columns expected).\n",
      "  supply period            datetime       date  correct hour  hour  weekday  \\\n",
      "0        Aug-23 2023-07-26 00:00:00 2023-07-26             0     1        2   \n",
      "1        Aug-23 2023-07-26 01:00:00 2023-07-26             1     2        2   \n",
      "2        Aug-23 2023-07-26 02:00:00 2023-07-26             2     3        2   \n",
      "3        Aug-23 2023-07-26 03:00:00 2023-07-26             3     4        2   \n",
      "4        Aug-23 2023-07-26 04:00:00 2023-07-26             4     5        2   \n",
      "\n",
      "       wesm      kwh       kw  \n",
      "0  3.937709  114.100  114.100  \n",
      "1  3.725969  112.525  112.525  \n",
      "2  3.140275  110.250  110.250  \n",
      "3  2.408305  111.825  111.825  \n",
      "4  2.418903  112.175  112.175  \n"
     ]
    }
   ],
   "source": [
    "import pandas as pd\n",
    "\n",
    "# Load the data\n",
    "data = pd.read_excel('STA. LUCIA LAND, INC.  (B Centro) AUG 2023 to JUL 2024.xlsx')\n",
    "data['datetime'] = pd.to_datetime(data['datetime'])  # Ensure datetime is in correct format\n",
    "\n",
    "# Check the number of columns in the DataFrame\n",
    "num_columns = data.shape[1]\n",
    "\n",
    "# Column indices: 8th column (index 7) for kwh and 9th column (index 8) for kw\n",
    "kwh_column_idx = 7  # 8th column (0-based index)\n",
    "kw_column_idx = 8   # 9th column (0-based index)\n",
    "\n",
    "# Check datetime interval to determine if it's 5-minute or 1-hour data\n",
    "time_diff = data['datetime'].diff().dt.total_seconds().median()\n",
    "frequency = 12 if time_diff == 300 else 1  # 5-minute interval if median diff is 300 seconds, otherwise 1 hour\n",
    "\n",
    "# Handling 5-minute data\n",
    "if frequency == 12:  # 5-minute interval\n",
    "    print(\"Data is 5-minute interval.\")\n",
    "\n",
    "    # Check if there are 8 or 9 columns\n",
    "    if num_columns == 8:\n",
    "        # Check if the 8th column is named as 'kw'\n",
    "        if data.columns[kwh_column_idx].lower() == 'kw':\n",
    "            # Rename it to 'kwh' and create 'kw' as the 9th column\n",
    "            data.rename(columns={data.columns[kwh_column_idx]: 'kwh'}, inplace=True)\n",
    "            data['kw'] = data['kwh'] * 12  # Create the 9th column by multiplying kwh by 12\n",
    "        else:\n",
    "            # If it's already kwh, just create 'kw' column\n",
    "            data['kw'] = data.iloc[:, kwh_column_idx] * 12  # Create the 9th column by multiplying kwh by 12\n",
    "            data.rename(columns={data.columns[kwh_column_idx]: 'kwh'}, inplace=True)\n",
    "            \n",
    "        # Ensure the data has 9 columns now\n",
    "        print(f\"Data now has {data.shape[1]} columns (9 columns expected).\")\n",
    "\n",
    "    elif num_columns == 9:\n",
    "        # Simply rename the 8th and 9th columns as kwh and kw\n",
    "        data.rename(columns={data.columns[kwh_column_idx]: 'kwh', data.columns[kw_column_idx]: 'kw'}, inplace=True)\n",
    "\n",
    "# Handling 1-hour data\n",
    "elif frequency == 1:  # 1-hour interval\n",
    "    print(\"Data is 1-hour interval.\")\n",
    "\n",
    "    # Check if there are 8 or 9 columns\n",
    "    if num_columns == 8:\n",
    "        # Copy the value from the 8th column (kwh) to the 9th column (kw)\n",
    "        data['kw'] = data.iloc[:, kwh_column_idx]\n",
    "        # Rename the columns appropriately\n",
    "        data.rename(columns={data.columns[kwh_column_idx]: 'kwh', 'kw': 'kw'}, inplace=True)\n",
    "        print(f\"Data now has {data.shape[1]} columns (9 columns expected).\")\n",
    "\n",
    "    elif num_columns == 9:\n",
    "        # Ensure the 8th and 9th columns are the same\n",
    "        if not (data.iloc[:, kwh_column_idx] == data.iloc[:, kw_column_idx]).all():\n",
    "            print(\"Warning: 8th and 9th columns do not match.\")\n",
    "        # Rename the columns as kwh and kw\n",
    "        data.rename(columns={data.columns[kwh_column_idx]: 'kwh', data.columns[kw_column_idx]: 'kw'}, inplace=True)\n",
    "\n",
    "# Show first few rows to verify the results\n",
    "print(data.head())\n"
   ]
  },
  {
   "cell_type": "code",
   "execution_count": 10,
   "metadata": {},
   "outputs": [
    {
     "name": "stdout",
     "output_type": "stream",
     "text": [
      "Index(['supply period', 'datetime', 'date', 'correct hour', 'hour', 'weekday',\n",
      "       'wesm', 'kwh', 'kw'],\n",
      "      dtype='object')\n"
     ]
    }
   ],
   "source": [
    "# Check the columns in your data\n",
    "print(data.columns)"
   ]
  },
  {
   "cell_type": "code",
   "execution_count": 11,
   "metadata": {},
   "outputs": [
    {
     "ename": "NameError",
     "evalue": "name 'generate_energy_summary' is not defined",
     "output_type": "error",
     "traceback": [
      "\u001b[1;31m---------------------------------------------------------------------------\u001b[0m",
      "\u001b[1;31mNameError\u001b[0m                                 Traceback (most recent call last)",
      "Cell \u001b[1;32mIn[11], line 2\u001b[0m\n\u001b[0;32m      1\u001b[0m \u001b[38;5;66;03m# Generate energy summary\u001b[39;00m\n\u001b[1;32m----> 2\u001b[0m energy_summary \u001b[38;5;241m=\u001b[39m \u001b[43mgenerate_energy_summary\u001b[49m(data, kwh_column\u001b[38;5;241m=\u001b[39m\u001b[38;5;124m'\u001b[39m\u001b[38;5;124mkwh\u001b[39m\u001b[38;5;124m'\u001b[39m, kw_column\u001b[38;5;241m=\u001b[39m\u001b[38;5;124m'\u001b[39m\u001b[38;5;124mkw\u001b[39m\u001b[38;5;124m'\u001b[39m)\n\u001b[0;32m      3\u001b[0m energy_summary\n",
      "\u001b[1;31mNameError\u001b[0m: name 'generate_energy_summary' is not defined"
     ]
    }
   ],
   "source": [
    "# Generate energy summary\n",
    "energy_summary = generate_energy_summary(data, kwh_column='kwh', kw_column='kw')\n",
    "energy_summary"
   ]
  }
 ],
 "metadata": {
  "kernelspec": {
   "display_name": "Python 3",
   "language": "python",
   "name": "python3"
  },
  "language_info": {
   "codemirror_mode": {
    "name": "ipython",
    "version": 3
   },
   "file_extension": ".py",
   "mimetype": "text/x-python",
   "name": "python",
   "nbconvert_exporter": "python",
   "pygments_lexer": "ipython3",
   "version": "3.12.4"
  }
 },
 "nbformat": 4,
 "nbformat_minor": 2
}
