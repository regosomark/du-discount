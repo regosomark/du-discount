{
 "cells": [
  {
   "cell_type": "code",
   "execution_count": 1,
   "metadata": {},
   "outputs": [
    {
     "name": "stdout",
     "output_type": "stream",
     "text": [
      "Requirement already satisfied: numpy in c:\\users\\mark\\appdata\\local\\programs\\python\\python312\\lib\\site-packages (2.0.0)\n",
      "Requirement already satisfied: pandas in c:\\users\\mark\\appdata\\local\\programs\\python\\python312\\lib\\site-packages (2.2.2)\n",
      "Requirement already satisfied: matplotlib in c:\\users\\mark\\appdata\\local\\programs\\python\\python312\\lib\\site-packages (3.9.1)\n",
      "Requirement already satisfied: python-pptx in c:\\users\\mark\\appdata\\local\\programs\\python\\python312\\lib\\site-packages (1.0.2)\n",
      "Requirement already satisfied: python-dateutil>=2.8.2 in c:\\users\\mark\\appdata\\local\\programs\\python\\python312\\lib\\site-packages (from pandas) (2.9.0.post0)\n",
      "Requirement already satisfied: pytz>=2020.1 in c:\\users\\mark\\appdata\\local\\programs\\python\\python312\\lib\\site-packages (from pandas) (2024.1)\n",
      "Requirement already satisfied: tzdata>=2022.7 in c:\\users\\mark\\appdata\\local\\programs\\python\\python312\\lib\\site-packages (from pandas) (2024.1)\n",
      "Requirement already satisfied: contourpy>=1.0.1 in c:\\users\\mark\\appdata\\local\\programs\\python\\python312\\lib\\site-packages (from matplotlib) (1.2.1)\n",
      "Requirement already satisfied: cycler>=0.10 in c:\\users\\mark\\appdata\\local\\programs\\python\\python312\\lib\\site-packages (from matplotlib) (0.12.1)\n",
      "Requirement already satisfied: fonttools>=4.22.0 in c:\\users\\mark\\appdata\\local\\programs\\python\\python312\\lib\\site-packages (from matplotlib) (4.53.1)\n",
      "Requirement already satisfied: kiwisolver>=1.3.1 in c:\\users\\mark\\appdata\\local\\programs\\python\\python312\\lib\\site-packages (from matplotlib) (1.4.5)\n",
      "Requirement already satisfied: packaging>=20.0 in c:\\users\\mark\\appdata\\local\\programs\\python\\python312\\lib\\site-packages (from matplotlib) (24.1)\n",
      "Requirement already satisfied: pillow>=8 in c:\\users\\mark\\appdata\\local\\programs\\python\\python312\\lib\\site-packages (from matplotlib) (10.4.0)\n",
      "Requirement already satisfied: pyparsing>=2.3.1 in c:\\users\\mark\\appdata\\local\\programs\\python\\python312\\lib\\site-packages (from matplotlib) (3.1.2)\n",
      "Requirement already satisfied: XlsxWriter>=0.5.7 in c:\\users\\mark\\appdata\\local\\programs\\python\\python312\\lib\\site-packages (from python-pptx) (3.2.0)\n",
      "Requirement already satisfied: lxml>=3.1.0 in c:\\users\\mark\\appdata\\local\\programs\\python\\python312\\lib\\site-packages (from python-pptx) (5.3.0)\n",
      "Requirement already satisfied: typing-extensions>=4.9.0 in c:\\users\\mark\\appdata\\local\\programs\\python\\python312\\lib\\site-packages (from python-pptx) (4.12.2)\n",
      "Requirement already satisfied: six>=1.5 in c:\\users\\mark\\appdata\\local\\programs\\python\\python312\\lib\\site-packages (from python-dateutil>=2.8.2->pandas) (1.16.0)\n",
      "Note: you may need to restart the kernel to use updated packages.\n"
     ]
    },
    {
     "name": "stderr",
     "output_type": "stream",
     "text": [
      "WARNING: Ignoring invalid distribution ~vicorn (c:\\Users\\MARK\\AppData\\Local\\Programs\\Python\\Python312\\Lib\\site-packages)\n",
      "WARNING: Ignoring invalid distribution ~vicorn (c:\\Users\\MARK\\AppData\\Local\\Programs\\Python\\Python312\\Lib\\site-packages)\n",
      "WARNING: Ignoring invalid distribution ~vicorn (c:\\Users\\MARK\\AppData\\Local\\Programs\\Python\\Python312\\Lib\\site-packages)\n"
     ]
    }
   ],
   "source": [
    "%pip install numpy pandas matplotlib python-pptx"
   ]
  },
  {
   "cell_type": "code",
   "execution_count": 1,
   "metadata": {},
   "outputs": [],
   "source": [
    "import sys  # noqa\n",
    "# sys.path.append('/workspace/forecasting_simulation')  # noqa\n",
    "\n",
    "import numpy as np\n",
    "import pandas as pd\n",
    "import matplotlib.pyplot as plt\n",
    "import random\n",
    "import seaborn as sns \n",
    "import matplotlib.colors as mcolors\n",
    "from pptx import Presentation\n",
    "from pptx.util import Inches, Pt\n",
    "from pptx.dml.color import RGBColor\n",
    "from utils import * "
   ]
  },
  {
   "cell_type": "markdown",
   "metadata": {},
   "source": [
    "## LOAD DATA"
   ]
  },
  {
   "cell_type": "code",
   "execution_count": 2,
   "metadata": {},
   "outputs": [
    {
     "name": "stdout",
     "output_type": "stream",
     "text": [
      "Data is 5-minute interval.\n",
      "Data now has 9 columns (9 columns expected).\n",
      "  supply period            datetime       date  correct hour  hour  weekday  \\\n",
      "0        Nov-23 2023-10-26 00:00:00 2023-10-26             0     1        3   \n",
      "1        Nov-23 2023-10-26 00:05:00 2023-10-26             0     1        3   \n",
      "2        Nov-23 2023-10-26 00:10:00 2023-10-26             0     1        3   \n",
      "3        Nov-23 2023-10-26 00:15:00 2023-10-26             0     1        3   \n",
      "4        Nov-23 2023-10-26 00:20:00 2023-10-26             0     1        3   \n",
      "\n",
      "       wesm    kwh      kw  \n",
      "0  3.337600  39.08  468.96  \n",
      "1  4.897380  39.08  468.96  \n",
      "2  4.825615  39.08  468.96  \n",
      "3  4.000234  39.00  468.00  \n",
      "4  4.003252  39.00  468.00  \n"
     ]
    }
   ],
   "source": [
    "import pandas as pd\n",
    "\n",
    "# Load the data\n",
    "data = pd.read_excel('Mcbride-LP.xlsx')\n",
    "data['datetime'] = pd.to_datetime(data['datetime'])  # Ensure datetime is in correct format\n",
    "\n",
    "# Check the number of columns in the DataFrame\n",
    "num_columns = data.shape[1]\n",
    "\n",
    "# Column indices: 8th column (index 7) for kwh and 9th column (index 8) for kw\n",
    "kwh_column_idx = 7  # 8th column (0-based index)\n",
    "kw_column_idx = 8   # 9th column (0-based index)\n",
    "\n",
    "# Check datetime interval to determine if it's 5-minute or 1-hour data\n",
    "time_diff = data['datetime'].diff().dt.total_seconds().median()\n",
    "frequency = 12 if time_diff == 300 else 1  # 5-minute interval if median diff is 300 seconds, otherwise 1 hour\n",
    "\n",
    "# Handling 5-minute data\n",
    "if frequency == 12:  # 5-minute interval\n",
    "    print(\"Data is 5-minute interval.\")\n",
    "\n",
    "    # Check if there are 8 or 9 columns\n",
    "    if num_columns == 8:\n",
    "        # Check if the 8th column is named as 'kw'\n",
    "        if data.columns[kwh_column_idx].lower() == 'kw':\n",
    "            # Rename it to 'kwh' and create 'kw' as the 9th column\n",
    "            data.rename(columns={data.columns[kwh_column_idx]: 'kwh'}, inplace=True)\n",
    "            data['kw'] = data['kwh'] * 12  # Create the 9th column by multiplying kwh by 12\n",
    "        else:\n",
    "            # If it's already kwh, just create 'kw' column\n",
    "            data['kw'] = data.iloc[:, kwh_column_idx] * 12  # Create the 9th column by multiplying kwh by 12\n",
    "            data.rename(columns={data.columns[kwh_column_idx]: 'kwh'}, inplace=True)\n",
    "            \n",
    "        # Ensure the data has 9 columns now\n",
    "        print(f\"Data now has {data.shape[1]} columns (9 columns expected).\")\n",
    "\n",
    "    elif num_columns == 9:\n",
    "        # Simply rename the 8th and 9th columns as kwh and kw\n",
    "        data.rename(columns={data.columns[kwh_column_idx]: 'kwh', data.columns[kw_column_idx]: 'kw'}, inplace=True)\n",
    "\n",
    "# Handling 1-hour data\n",
    "elif frequency == 1:  # 1-hour interval\n",
    "    print(\"Data is 1-hour interval.\")\n",
    "\n",
    "    # Check if there are 8 or 9 columns\n",
    "    if num_columns == 8:\n",
    "        # Copy the value from the 8th column (kwh) to the 9th column (kw)\n",
    "        data['kw'] = data.iloc[:, kwh_column_idx]\n",
    "        # Rename the columns appropriately\n",
    "        data.rename(columns={data.columns[kwh_column_idx]: 'kwh', 'kw': 'kw'}, inplace=True)\n",
    "        print(f\"Data now has {data.shape[1]} columns (9 columns expected).\")\n",
    "\n",
    "    elif num_columns == 9:\n",
    "        # Ensure the 8th and 9th columns are the same\n",
    "        if not (data.iloc[:, kwh_column_idx] == data.iloc[:, kw_column_idx]).all():\n",
    "            print(\"Warning: 8th and 9th columns do not match.\")\n",
    "        # Rename the columns as kwh and kw\n",
    "        data.rename(columns={data.columns[kwh_column_idx]: 'kwh', data.columns[kw_column_idx]: 'kw'}, inplace=True)\n",
    "\n",
    "# Show first few rows to verify the results\n",
    "print(data.head())\n"
   ]
  },
  {
   "cell_type": "code",
   "execution_count": 3,
   "metadata": {},
   "outputs": [
    {
     "name": "stdout",
     "output_type": "stream",
     "text": [
      "Index(['supply period', 'datetime', 'date', 'correct hour', 'hour', 'weekday',\n",
      "       'wesm', 'kwh', 'kw'],\n",
      "      dtype='object')\n"
     ]
    }
   ],
   "source": [
    "# Check the columns in your data\n",
    "print(data.columns)"
   ]
  },
  {
   "cell_type": "code",
   "execution_count": 4,
   "metadata": {},
   "outputs": [],
   "source": [
    "import pandas as pd\n",
    "\n",
    "def generate_energy_summary(data, datetime_column='datetime', kwh_column='kwh', kw_column='kw'):\n",
    "    # Ensure 'kwh' and 'kw' columns are numeric\n",
    "    data[kwh_column] = pd.to_numeric(data[kwh_column], errors='coerce')\n",
    "    data[kw_column] = pd.to_numeric(data[kw_column], errors='coerce')\n",
    "\n",
    "    # Determine the frequency based on the time intervals in the datetime column\n",
    "    interval_seconds = data[datetime_column].diff().dt.total_seconds().median()\n",
    "    frequency = 12 if interval_seconds == 300 else 1  # 12 for 5 minutes, 1 for 1 hour\n",
    "\n",
    "    # Group by supply period and aggregate the necessary columns\n",
    "    energy_summary = data.groupby(\"supply period\", sort=False).agg({\n",
    "        \"supply period\": \"count\",\n",
    "        kwh_column: \"sum\",\n",
    "        kw_column: \"max\"\n",
    "    })\n",
    "\n",
    "    # Rename columns for readability\n",
    "    energy_summary.columns = [\"number of intervals\", \"kwh\", \"kw\"]\n",
    "\n",
    "    # Calculate 'number of hours' based on frequency and drop 'number of intervals'\n",
    "    energy_summary[\"number of hours\"] = energy_summary[\"number of intervals\"] / frequency\n",
    "    energy_summary.drop(columns=[\"number of intervals\"], inplace=True)\n",
    "\n",
    "    # Add a total row with the sum of kWh and the max of kW\n",
    "    energy_summary.loc[\"Total\"] = energy_summary.sum(numeric_only=True)\n",
    "    energy_summary.loc[\"Total\", \"kw\"] = energy_summary.iloc[:-1][\"kw\"].max()\n",
    "\n",
    "    # Calculate the load factor\n",
    "    energy_summary[\"load factor\"] = (energy_summary[\"kwh\"] / (energy_summary['kw'] * energy_summary[\"number of hours\"])) * 100\n",
    "\n",
    "    # Create a copy of the summary data without the Total row for statistics\n",
    "    original_energy_summary = energy_summary.iloc[:-1].copy()\n",
    "\n",
    "    # Add Average, Max, Min rows based on the original data (excluding 'Total')\n",
    "    energy_summary.loc[\"Average\"] = original_energy_summary.mean(numeric_only=True)\n",
    "    energy_summary.loc[\"Max\"] = original_energy_summary.max(numeric_only=True)\n",
    "    energy_summary.loc[\"Min\"] = original_energy_summary.min(numeric_only=True)\n",
    "\n",
    "    # Reset index to remove 'supply period' from being the index\n",
    "    energy_summary = energy_summary.reset_index()\n",
    "\n",
    "    # Reorder columns as specified\n",
    "    energy_summary = energy_summary[[\"supply period\", \"number of hours\", \"kwh\", \"kw\", \"load factor\"]]\n",
    "\n",
    "    return energy_summary\n",
    "\n",
    "# Generate energy summary\n",
    "energy_summary = generate_energy_summary(data, kwh_column='kwh', kw_column='kw')"
   ]
  },
  {
   "cell_type": "code",
   "execution_count": 5,
   "metadata": {},
   "outputs": [
    {
     "name": "stdout",
     "output_type": "stream",
     "text": [
      "supply period       object\n",
      "number of hours    float64\n",
      "kwh                float64\n",
      "kw                 float64\n",
      "load factor        float64\n",
      "dtype: object\n"
     ]
    }
   ],
   "source": [
    "print(energy_summary.dtypes)"
   ]
  },
  {
   "cell_type": "code",
   "execution_count": 6,
   "metadata": {},
   "outputs": [
    {
     "name": "stdout",
     "output_type": "stream",
     "text": [
      "Database connection successful\n",
      "Fetched du_id: 59 for MERALCO\n",
      "Data for du_name 'MERALCO':\n",
      "(59, datetime.date(2022, 1, 1), 5.4262)\n",
      "(59, datetime.date(2022, 2, 1), 5.1957)\n",
      "(59, datetime.date(2022, 3, 1), 5.4737)\n",
      "(59, datetime.date(2022, 4, 1), 5.8724)\n",
      "(59, datetime.date(2022, 5, 1), 6.2277)\n",
      "(59, datetime.date(2022, 6, 1), 6.559)\n",
      "(59, datetime.date(2022, 7, 1), 6.7756)\n",
      "(59, datetime.date(2022, 8, 1), 6.5812)\n",
      "(59, datetime.date(2022, 9, 1), 6.9393)\n",
      "(59, datetime.date(2022, 10, 1), 6.9192)\n",
      "(59, datetime.date(2022, 11, 1), 6.9917)\n",
      "(59, datetime.date(2022, 12, 1), 6.7975)\n",
      "(59, datetime.date(2023, 1, 1), 7.1291)\n",
      "(59, datetime.date(2023, 2, 1), 6.9154)\n",
      "(59, datetime.date(2023, 3, 1), 7.379)\n",
      "(59, datetime.date(2023, 4, 1), 7.3295)\n",
      "(59, datetime.date(2023, 5, 1), 7.6697)\n",
      "(59, datetime.date(2023, 6, 1), 7.2502)\n",
      "(59, datetime.date(2023, 7, 1), 6.6066)\n",
      "(59, datetime.date(2023, 8, 1), 6.3929)\n",
      "(59, datetime.date(2023, 9, 1), 6.8252)\n",
      "(59, datetime.date(2023, 10, 1), 7.1267)\n",
      "(59, datetime.date(2023, 11, 1), 7.1938)\n",
      "(59, datetime.date(2023, 12, 1), 6.5332)\n",
      "(59, datetime.date(2024, 1, 1), 6.6468)\n",
      "(59, datetime.date(2024, 2, 1), 7.102)\n",
      "(59, datetime.date(2024, 3, 1), 6.7502)\n",
      "(59, datetime.date(2024, 4, 1), 6.3889)\n",
      "(59, datetime.date(2024, 5, 1), 6.8344)\n",
      "(59, datetime.date(2024, 6, 1), 5.0036)\n",
      "(59, datetime.date(2024, 7, 1), 7.0057)\n",
      "(59, datetime.date(2024, 8, 1), 6.9554)\n"
     ]
    }
   ],
   "source": [
    "import psycopg2\n",
    "import pandas as pd\n",
    "\n",
    "def connect_to_database(host=\"localhost\", database=\"solx\", user=\"postgres\", password=\"123456\", port=\"5432\"):\n",
    "    try:\n",
    "        # Establishing the connection\n",
    "        conn = psycopg2.connect(\n",
    "            host=host,\n",
    "            database=database,\n",
    "            user=user,\n",
    "            password=password,\n",
    "            port=port\n",
    "        )\n",
    "        print(\"Database connection successful\")\n",
    "        return conn\n",
    "    except psycopg2.OperationalError as e:\n",
    "        print(f\"Error connecting to the database: {e}\")\n",
    "        return None\n",
    "\n",
    "def fetch_data_for_du(du_name, return_dataframe=False, host=\"localhost\", database=\"solx\", user=\"postgres\", password=\"123456\", port=\"5432\"):\n",
    "    # Connect to the PostgreSQL database\n",
    "    conn = connect_to_database(host, database, user, password, port)\n",
    "    if not conn:\n",
    "        return None\n",
    "\n",
    "    cursor = conn.cursor()\n",
    "\n",
    "    # Step 1: Find the du_id for the specified du_name\n",
    "    cursor.execute(\"\"\"\n",
    "        SELECT du_id \n",
    "        FROM du_rates.distribution_utilities \n",
    "        WHERE du_name = %s\n",
    "    \"\"\", (du_name,))\n",
    "    \n",
    "    # Check if the query returned a valid du_id\n",
    "    du_id_result = cursor.fetchone()\n",
    "    if du_id_result is None:\n",
    "        print(f\"No du_id found for du_name: {du_name}\")\n",
    "        cursor.close()\n",
    "        conn.close()\n",
    "        return None\n",
    "\n",
    "    du_id = du_id_result[0]\n",
    "    print(f\"Fetched du_id: {du_id} for {du_name}\")\n",
    "\n",
    "    # Step 2: Retrieve data from effective_rates for the specified du_id\n",
    "    cursor.execute(\"\"\"\n",
    "        SELECT du_id, supply_period, effective_rate\n",
    "        FROM du_rates.effective_rates \n",
    "        WHERE du_id = %s\n",
    "        ORDER BY supply_period\n",
    "    \"\"\", (du_id,))\n",
    "    \n",
    "    results = cursor.fetchall()\n",
    "    if not results:\n",
    "        print(f\"No data found in effective_rates for du_name: {du_name}\")\n",
    "        cursor.close()\n",
    "        conn.close()\n",
    "        return None\n",
    "\n",
    "    if return_dataframe:\n",
    "        # Create a DataFrame from the results\n",
    "        data = []\n",
    "        for row in results:\n",
    "            formatted_date = row[1].strftime('%b-%y')  # Format as 'Jan-22'\n",
    "            data.append([row[0], formatted_date, row[2]])\n",
    "\n",
    "        # Convert list of lists into DataFrame\n",
    "        df = pd.DataFrame(data, columns=[\"du_id\", \"supply_period\", \"effective_rate\"])\n",
    "\n",
    "        cursor.close()\n",
    "        conn.close()\n",
    "\n",
    "        return df\n",
    "    else:\n",
    "        # Print the results if not returning a DataFrame\n",
    "        print(f\"Data for du_name '{du_name}':\")\n",
    "        for row in results:\n",
    "            print(row)\n",
    "\n",
    "        cursor.close()\n",
    "        conn.close()\n",
    "\n",
    "# Example usage for printing data:\n",
    "fetch_data_for_du(\"MERALCO\", return_dataframe=False)"
   ]
  },
  {
   "cell_type": "code",
   "execution_count": 7,
   "metadata": {},
   "outputs": [
    {
     "name": "stdout",
     "output_type": "stream",
     "text": [
      "Database connection successful\n",
      "Fetched du_id: 59 for MERALCO\n",
      "    du_id supply_period  effective_rate\n",
      "0      59        Jan-22          5.4262\n",
      "1      59        Feb-22          5.1957\n",
      "2      59        Mar-22          5.4737\n",
      "3      59        Apr-22          5.8724\n",
      "4      59        May-22          6.2277\n",
      "5      59        Jun-22          6.5590\n",
      "6      59        Jul-22          6.7756\n",
      "7      59        Aug-22          6.5812\n",
      "8      59        Sep-22          6.9393\n",
      "9      59        Oct-22          6.9192\n",
      "10     59        Nov-22          6.9917\n",
      "11     59        Dec-22          6.7975\n",
      "12     59        Jan-23          7.1291\n",
      "13     59        Feb-23          6.9154\n",
      "14     59        Mar-23          7.3790\n",
      "15     59        Apr-23          7.3295\n",
      "16     59        May-23          7.6697\n",
      "17     59        Jun-23          7.2502\n",
      "18     59        Jul-23          6.6066\n",
      "19     59        Aug-23          6.3929\n",
      "20     59        Sep-23          6.8252\n",
      "21     59        Oct-23          7.1267\n",
      "22     59        Nov-23          7.1938\n",
      "23     59        Dec-23          6.5332\n",
      "24     59        Jan-24          6.6468\n",
      "25     59        Feb-24          7.1020\n",
      "26     59        Mar-24          6.7502\n",
      "27     59        Apr-24          6.3889\n",
      "28     59        May-24          6.8344\n",
      "29     59        Jun-24          5.0036\n",
      "30     59        Jul-24          7.0057\n",
      "31     59        Aug-24          6.9554\n"
     ]
    }
   ],
   "source": [
    "# Example usage for getting data as a DataFrame:\n",
    "df = fetch_data_for_du(\"MERALCO\", return_dataframe=True)\n",
    "if df is not None:\n",
    "    print(df)\n",
    "else:\n",
    "    print(\"No data returned.\")"
   ]
  },
  {
   "cell_type": "code",
   "execution_count": 8,
   "metadata": {},
   "outputs": [
    {
     "name": "stdout",
     "output_type": "stream",
     "text": [
      "Min Supply Period: Nov-23, Max Supply Period: Sep-24\n",
      "Columns in merged_df: Index(['supply_period', 'number of hours', 'kwh', 'kw', 'load factor', 'du_id',\n",
      "       'effective_rate'],\n",
      "      dtype='object')\n",
      "   supply_period         kwh  effective_rate\n",
      "0     2023-11-01  371827.200          7.1938\n",
      "1     2023-12-01  370132.620          6.5332\n",
      "2     2024-01-01  373162.260          6.6468\n",
      "3     2024-02-01  404063.915          7.1020\n",
      "4     2024-03-01  380537.250          6.7502\n",
      "5     2024-04-01  366739.350          6.3889\n",
      "6     2024-05-01  366741.180          6.8344\n",
      "7     2024-06-01  396093.750          5.0036\n",
      "8     2024-07-01  359701.770          7.0057\n",
      "9     2024-08-01  343199.400          6.9554\n",
      "10    2024-09-01  355670.310          6.9554\n"
     ]
    },
    {
     "name": "stderr",
     "output_type": "stream",
     "text": [
      "C:\\Users\\MARK\\AppData\\Local\\Temp\\ipykernel_6240\\1385687637.py:9: SettingWithCopyWarning: \n",
      "A value is trying to be set on a copy of a slice from a DataFrame.\n",
      "Try using .loc[row_indexer,col_indexer] = value instead\n",
      "\n",
      "See the caveats in the documentation: https://pandas.pydata.org/pandas-docs/stable/user_guide/indexing.html#returning-a-view-versus-a-copy\n",
      "  energy_summary['supply_period'] = pd.to_datetime(energy_summary['supply_period'], format='%b-%y')\n",
      "C:\\Users\\MARK\\AppData\\Local\\Temp\\ipykernel_6240\\1385687637.py:30: FutureWarning: Series.fillna with 'method' is deprecated and will raise in a future version. Use obj.ffill() or obj.bfill() instead.\n",
      "  merged_df['effective_rate'] = merged_df['effective_rate'].fillna(method='ffill')\n"
     ]
    }
   ],
   "source": [
    "def combine_data(energy_summary, df):\n",
    "    # Rename columns in energy_summary for consistency\n",
    "    energy_summary.rename(columns={'supply period': 'supply_period'}, inplace=True)\n",
    "    \n",
    "    # Clean energy_summary by removing rows with 'Total', 'Average', 'Max', or 'Min' in 'supply_period'\n",
    "    energy_summary = energy_summary[~energy_summary['supply_period'].isin(['Total', 'Average', 'Max', 'Min'])]\n",
    "    \n",
    "    # Convert 'supply_period' to datetime to handle chronological ordering correctly\n",
    "    energy_summary['supply_period'] = pd.to_datetime(energy_summary['supply_period'], format='%b-%y')\n",
    "\n",
    "    # Ensure df also has 'supply_period' in datetime format\n",
    "    df['supply_period'] = pd.to_datetime(df['supply_period'], format='%b-%y')\n",
    "\n",
    "    # Get the minimum and maximum supply period from energy_summary\n",
    "    min_supply_period = energy_summary['supply_period'].min().strftime('%b-%y')\n",
    "    max_supply_period = energy_summary['supply_period'].max().strftime('%b-%y')\n",
    "\n",
    "    print(f\"Min Supply Period: {min_supply_period}, Max Supply Period: {max_supply_period}\")\n",
    "\n",
    "    # Filter df to only include rows within the range of energy_summary supply periods\n",
    "    df_filtered = df[(df['supply_period'] >= energy_summary['supply_period'].min()) & (df['supply_period'] <= energy_summary['supply_period'].max())]\n",
    "\n",
    "    # Merge the energy_summary and filtered df on supply_period\n",
    "    merged_df = pd.merge(energy_summary, df_filtered, on='supply_period', how='left')\n",
    "\n",
    "    # Check columns in merged_df to ensure 'kwh' and 'effective_rate' are present\n",
    "    print(\"Columns in merged_df:\", merged_df.columns)\n",
    "\n",
    "    # Fill missing effective_rate in merged_df with the previous available effective_rate\n",
    "    merged_df['effective_rate'] = merged_df['effective_rate'].fillna(method='ffill')\n",
    "\n",
    "    # Return the result with 'supply_period', 'kwh', and 'effective_rate'\n",
    "    result_df = merged_df[['supply_period', 'kwh', 'effective_rate']]\n",
    "    \n",
    "    return result_df\n",
    "\n",
    "# Example usage:\n",
    "# Assuming you have 'df' from your database and 'energy_summary' DataFrame\n",
    "result_df = combine_data(energy_summary, df)\n",
    "\n",
    "# Print the final result\n",
    "print(result_df)"
   ]
  },
  {
   "cell_type": "code",
   "execution_count": 9,
   "metadata": {},
   "outputs": [
    {
     "name": "stdout",
     "output_type": "stream",
     "text": [
      "Columns in df: Index(['supply_period', 'kwh', 'effective_rate'], dtype='object')\n"
     ]
    }
   ],
   "source": [
    "print(\"Columns in df:\", result_df.columns)"
   ]
  },
  {
   "cell_type": "code",
   "execution_count": 10,
   "metadata": {},
   "outputs": [
    {
     "name": "stdout",
     "output_type": "stream",
     "text": [
      "supply_period     datetime64[ns]\n",
      "kwh                      float64\n",
      "effective_rate           float64\n",
      "dtype: object\n"
     ]
    }
   ],
   "source": [
    "print(result_df.dtypes)"
   ]
  },
  {
   "cell_type": "code",
   "execution_count": 11,
   "metadata": {},
   "outputs": [
    {
     "name": "stdout",
     "output_type": "stream",
     "text": [
      "   supply_period         kwh  effective_rate\n",
      "0     2023-11-01  371827.200          7.1938\n",
      "1     2023-12-01  370132.620          6.5332\n",
      "2     2024-01-01  373162.260          6.6468\n",
      "3     2024-02-01  404063.915          7.1020\n",
      "4     2024-03-01  380537.250          6.7502\n",
      "5     2024-04-01  366739.350          6.3889\n",
      "6     2024-05-01  366741.180          6.8344\n",
      "7     2024-06-01  396093.750          5.0036\n",
      "8     2024-07-01  359701.770          7.0057\n",
      "9     2024-08-01  343199.400          6.9554\n",
      "10    2024-09-01  355670.310          6.9554\n"
     ]
    }
   ],
   "source": [
    "# Print the entire result_df\n",
    "print(result_df[['supply_period', 'kwh', 'effective_rate']])"
   ]
  },
  {
   "cell_type": "code",
   "execution_count": 12,
   "metadata": {},
   "outputs": [
    {
     "name": "stdout",
     "output_type": "stream",
     "text": [
      "0\n",
      "0     371827.200\n",
      "1     370132.620\n",
      "2     373162.260\n",
      "3     404063.915\n",
      "4     380537.250\n",
      "5     366739.350\n",
      "6     366741.180\n",
      "7     396093.750\n",
      "8     359701.770\n",
      "9     343199.400\n",
      "10    355670.310\n",
      "Name: kwh, dtype: float64\n"
     ]
    }
   ],
   "source": [
    "print(result_df['kwh'].isna().sum())  # This will show how many NaN values are in the kwh column\n",
    "print(result_df['kwh'])  # This will display the raw data to help identify issues"
   ]
  },
  {
   "cell_type": "code",
   "execution_count": 13,
   "metadata": {},
   "outputs": [],
   "source": [
    "def calculate_percentage_discount(result_df, floor_price, du_discount):\n",
    "    # Ensure 'effective_rate' is a numeric column\n",
    "    result_df['effective_rate'] = pd.to_numeric(result_df['effective_rate'], errors='coerce')\n",
    "    \n",
    "    # Convert kwh to numeric, filling NaNs with 0 if needed\n",
    "    result_df['kwh'] = pd.to_numeric(result_df['kwh'], errors='coerce').fillna(0)\n",
    "\n",
    "    # Calculate the discounted price using percentage\n",
    "    result_df['DU Discounted Price'] = result_df['effective_rate'] - (result_df['effective_rate'] * (du_discount / 100))\n",
    "    result_df['DU Discounted Price'] = result_df['DU Discounted Price'].clip(lower=floor_price).round(4)\n",
    "\n",
    "    # Format the discounted price as a string with 4 decimal places (for display purposes)\n",
    "    result_df['DU Discounted Price'] = result_df['DU Discounted Price'].apply(lambda x: f\"{x:.4f}\")\n",
    "\n",
    "    # Convert 'DU Discounted Price' back to numeric for calculations\n",
    "    result_df['DU Discounted Price'] = pd.to_numeric(result_df['DU Discounted Price'], errors='coerce')\n",
    "\n",
    "    # Calculate Total Charges\n",
    "    result_df['Total Charges'] = result_df['kwh'] * result_df['DU Discounted Price']\n",
    "    \n",
    "    # Calculate the average DU rate\n",
    "    du_rate_ave = result_df['effective_rate'].mean()\n",
    "    result_df['DU Rate Ave'] = f\"{du_rate_ave:.4f}\"\n",
    "\n",
    "    # Calculate the average discounted price using percentage\n",
    "    discounted_price_ave = du_rate_ave - (du_rate_ave * (du_discount / 100))\n",
    "    discounted_price_ave = max(discounted_price_ave, floor_price)\n",
    "    result_df['DU Discounted Price Ave'] = f\"{discounted_price_ave:.4f}\"\n",
    "\n",
    "    # Format 'kwh' and 'Total Charges' with commas and decimal places\n",
    "    result_df['kwh'] = result_df['kwh'].apply(lambda x: f\"{x:,.3f}\")\n",
    "    result_df['Total Charges'] = result_df['Total Charges'].apply(lambda x: f\"{x:,.2f}\")\n",
    "\n",
    "    print(\"Fixed Discount DataFrame:\\n\", result_df)  # Debugging print\n",
    "\n",
    "    return result_df"
   ]
  },
  {
   "cell_type": "code",
   "execution_count": 14,
   "metadata": {},
   "outputs": [
    {
     "name": "stdout",
     "output_type": "stream",
     "text": [
      "Fixed Discount DataFrame:\n",
      "    supply_period          kwh  effective_rate  DU Discounted Price  \\\n",
      "0     2023-11-01  371,827.200          7.1938               6.9780   \n",
      "1     2023-12-01  370,132.620          6.5332               6.5000   \n",
      "2     2024-01-01  373,162.260          6.6468               6.5000   \n",
      "3     2024-02-01  404,063.915          7.1020               6.8889   \n",
      "4     2024-03-01  380,537.250          6.7502               6.5477   \n",
      "5     2024-04-01  366,739.350          6.3889               6.5000   \n",
      "6     2024-05-01  366,741.180          6.8344               6.6294   \n",
      "7     2024-06-01  396,093.750          5.0036               6.5000   \n",
      "8     2024-07-01  359,701.770          7.0057               6.7955   \n",
      "9     2024-08-01  343,199.400          6.9554               6.7467   \n",
      "10    2024-09-01  355,670.310          6.9554               6.7467   \n",
      "\n",
      "   Total Charges DU Rate Ave DU Discounted Price Ave  \n",
      "0   2,594,610.20      6.6699                  6.5000  \n",
      "1   2,405,862.03      6.6699                  6.5000  \n",
      "2   2,425,554.69      6.6699                  6.5000  \n",
      "3   2,783,555.90      6.6699                  6.5000  \n",
      "4   2,491,643.75      6.6699                  6.5000  \n",
      "5   2,383,805.77      6.6699                  6.5000  \n",
      "6   2,431,273.98      6.6699                  6.5000  \n",
      "7   2,574,609.38      6.6699                  6.5000  \n",
      "8   2,444,353.38      6.6699                  6.5000  \n",
      "9   2,315,463.39      6.6699                  6.5000  \n",
      "10  2,399,600.88      6.6699                  6.5000  \n"
     ]
    }
   ],
   "source": [
    "# Example usage with result_df\n",
    "floor_price = 6.5  # Set your floor price\n",
    "du_discount = 3   # Set your DU discount (percentage or fixed)\n",
    "\n",
    "# Choose either fixed or percentage discount calculation:\n",
    "# If you want to apply fixed discount:\n",
    "result_df_fixed = calculate_percentage_discount(result_df, floor_price, du_discount)"
   ]
  },
  {
   "cell_type": "code",
   "execution_count": 15,
   "metadata": {},
   "outputs": [],
   "source": [
    "import pandas as pd\n",
    "\n",
    "# Assuming result_df contains 'supply_period', 'kwh', and 'effective_rate'\n",
    "\n",
    "def calculate_fixed_discount(result_df, floor_price, du_discount): \n",
    "    # Ensure 'effective_rate' is a numeric column\n",
    "    result_df['effective_rate'] = pd.to_numeric(result_df['effective_rate'], errors='coerce')\n",
    "    \n",
    "    # Convert kwh to numeric, filling NaNs with 0 if needed\n",
    "    result_df['kwh'] = pd.to_numeric(result_df['kwh'], errors='coerce').fillna(0)\n",
    "    \n",
    "    # Calculate the discounted price\n",
    "    result_df['DU Discounted Price'] = result_df['effective_rate'] - du_discount\n",
    "    result_df['DU Discounted Price'] = result_df['DU Discounted Price'].clip(lower=floor_price).round(4)\n",
    "    \n",
    "    # Format the discounted price as a string with 4 decimal places (for display purposes)\n",
    "    result_df['DU Discounted Price'] = result_df['DU Discounted Price'].apply(lambda x: f\"{x:.4f}\")\n",
    "    \n",
    "    # Convert 'DU Discounted Price' back to numeric for calculations\n",
    "    result_df['DU Discounted Price'] = pd.to_numeric(result_df['DU Discounted Price'], errors='coerce')\n",
    "    \n",
    "    # Calculate Total Charges\n",
    "    result_df['Total Charges'] = result_df['kwh'] * result_df['DU Discounted Price']\n",
    "    \n",
    "    # Calculate the average DU rate\n",
    "    du_rate_ave = result_df['effective_rate'].mean()\n",
    "    result_df['DU Rate Ave'] = f\"{du_rate_ave:.4f}\"\n",
    "\n",
    "    # Calculate the average discounted price\n",
    "    discounted_price_ave = du_rate_ave - du_discount\n",
    "    discounted_price_ave = max(discounted_price_ave, floor_price)\n",
    "    result_df['DU Discounted Price Ave'] = f\"{discounted_price_ave:.4f}\"\n",
    "    \n",
    "    # Format 'kwh' and 'Total Charges' with commas and decimal places\n",
    "    result_df['kwh'] = result_df['kwh'].apply(lambda x: f\"{x:,.3f}\")\n",
    "    result_df['Total Charges'] = result_df['Total Charges'].apply(lambda x: f\"{x:,.2f}\")\n",
    "\n",
    "    print(\"Fixed Discount DataFrame:\\n\", result_df)  # Debugging print\n",
    "\n",
    "    return result_df"
   ]
  },
  {
   "cell_type": "code",
   "execution_count": 16,
   "metadata": {},
   "outputs": [
    {
     "name": "stdout",
     "output_type": "stream",
     "text": [
      "Fixed Discount DataFrame:\n",
      "    supply_period    kwh  effective_rate  DU Discounted Price Total Charges  \\\n",
      "0     2023-11-01  0.000          7.1938                  6.5          0.00   \n",
      "1     2023-12-01  0.000          6.5332                  6.5          0.00   \n",
      "2     2024-01-01  0.000          6.6468                  6.5          0.00   \n",
      "3     2024-02-01  0.000          7.1020                  6.5          0.00   \n",
      "4     2024-03-01  0.000          6.7502                  6.5          0.00   \n",
      "5     2024-04-01  0.000          6.3889                  6.5          0.00   \n",
      "6     2024-05-01  0.000          6.8344                  6.5          0.00   \n",
      "7     2024-06-01  0.000          5.0036                  6.5          0.00   \n",
      "8     2024-07-01  0.000          7.0057                  6.5          0.00   \n",
      "9     2024-08-01  0.000          6.9554                  6.5          0.00   \n",
      "10    2024-09-01  0.000          6.9554                  6.5          0.00   \n",
      "\n",
      "   DU Rate Ave DU Discounted Price Ave  \n",
      "0       6.6699                  6.5000  \n",
      "1       6.6699                  6.5000  \n",
      "2       6.6699                  6.5000  \n",
      "3       6.6699                  6.5000  \n",
      "4       6.6699                  6.5000  \n",
      "5       6.6699                  6.5000  \n",
      "6       6.6699                  6.5000  \n",
      "7       6.6699                  6.5000  \n",
      "8       6.6699                  6.5000  \n",
      "9       6.6699                  6.5000  \n",
      "10      6.6699                  6.5000  \n"
     ]
    }
   ],
   "source": [
    "# Example usage with result_df\n",
    "floor_price = 6.5  # Set your floor price\n",
    "du_discount = 3   # Set your DU discount (percentage or fixed)\n",
    "\n",
    "# Choose either fixed or percentage discount calculation:\n",
    "# If you want to apply fixed discount:\n",
    "result_df_fixed = calculate_fixed_discount(result_df, floor_price, du_discount)"
   ]
  }
 ],
 "metadata": {
  "kernelspec": {
   "display_name": "Python 3",
   "language": "python",
   "name": "python3"
  },
  "language_info": {
   "codemirror_mode": {
    "name": "ipython",
    "version": 3
   },
   "file_extension": ".py",
   "mimetype": "text/x-python",
   "name": "python",
   "nbconvert_exporter": "python",
   "pygments_lexer": "ipython3",
   "version": "3.12.4"
  }
 },
 "nbformat": 4,
 "nbformat_minor": 2
}
